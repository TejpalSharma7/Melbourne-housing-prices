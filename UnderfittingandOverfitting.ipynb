{
 "cells": [
  {
   "cell_type": "code",
   "execution_count": 10,
   "id": "ec6fe609-3179-4258-8b9d-6694806e4032",
   "metadata": {},
   "outputs": [],
   "source": [
    "import pandas as pd\n",
    "    \n",
    "# Load data\n",
    "melbourne_file_path = 'melb_data.csv'\n",
    "melbourne_data = pd.read_csv(melbourne_file_path) \n",
    "# Filter rows with missing values\n",
    "filtered_melbourne_data = melbourne_data.dropna(axis=0)\n",
    "# Choose target and features\n",
    "y = filtered_melbourne_data.Price\n",
    "melbourne_features = ['Rooms', 'Bathroom', 'Landsize', 'BuildingArea', \n",
    "                        'YearBuilt', 'Lattitude', 'Longtitude']\n",
    "X = filtered_melbourne_data[melbourne_features]\n",
    "\n",
    "from sklearn.model_selection import train_test_split\n",
    "\n",
    "# split data into training and validation data, for both features and target\n",
    "train_X, val_X, train_y, val_y = train_test_split(X, y,random_state = 0)"
   ]
  },
  {
   "cell_type": "code",
   "execution_count": 7,
   "id": "af0d580e-9ff6-4ec6-a3a9-8c66408951e0",
   "metadata": {},
   "outputs": [],
   "source": [
    "from sklearn.metrics import mean_absolute_error\n",
    "from sklearn.tree import DecisionTreeRegressor\n",
    "\n",
    "def get_mae(max_leaf_nodes,train_X,train_y,val_X,val_y):\n",
    "    model= DecisionTreeRegressor(max_leaf_nodes=max_leaf_nodes, random_state=0)\n",
    "    model.fit(train_X,train_y)\n",
    "    pred_val=model.predict(val_X)\n",
    "    mae= mean_absolute_error(val_y, pred_val)\n",
    "    return mae"
   ]
  },
  {
   "cell_type": "code",
   "execution_count": 9,
   "id": "cdfe9ad1-143d-4816-96f2-8c9d11d5b932",
   "metadata": {},
   "outputs": [
    {
     "name": "stdout",
     "output_type": "stream",
     "text": [
      "Max leaf Nodes: 5 \t\t Mean absolute error: 347380\n",
      "Max leaf Nodes: 50 \t\t Mean absolute error: 258171\n",
      "Max leaf Nodes: 500 \t\t Mean absolute error: 243495\n",
      "Max leaf Nodes: 5000 \t\t Mean absolute error: 255575\n"
     ]
    }
   ],
   "source": [
    "for max_leaf_nodes in [5,50,500,5000]:\n",
    "    my_mae=get_mae(max_leaf_nodes,train_X, train_y, val_X, val_y)\n",
    "    print(\"Max leaf Nodes: %d \\t\\t Mean absolute error: %d\" %(max_leaf_nodes,my_mae))"
   ]
  },
  {
   "cell_type": "code",
   "execution_count": null,
   "id": "a280c26f-9e3b-4ebb-a4d6-d1266192dda0",
   "metadata": {},
   "outputs": [],
   "source": []
  }
 ],
 "metadata": {
  "kernelspec": {
   "display_name": "Python 3 (ipykernel)",
   "language": "python",
   "name": "python3"
  },
  "language_info": {
   "codemirror_mode": {
    "name": "ipython",
    "version": 3
   },
   "file_extension": ".py",
   "mimetype": "text/x-python",
   "name": "python",
   "nbconvert_exporter": "python",
   "pygments_lexer": "ipython3",
   "version": "3.10.0"
  }
 },
 "nbformat": 4,
 "nbformat_minor": 5
}
